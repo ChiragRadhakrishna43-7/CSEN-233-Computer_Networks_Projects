{
 "cells": [
  {
   "cell_type": "code",
   "execution_count": 1,
   "id": "d5c75e32",
   "metadata": {},
   "outputs": [],
   "source": [
    "import socket"
   ]
  },
  {
   "cell_type": "code",
   "execution_count": 2,
   "id": "1f64d2d0",
   "metadata": {},
   "outputs": [],
   "source": [
    "# Client Socket:\n",
    "\n",
    "c = socket.socket()"
   ]
  },
  {
   "cell_type": "code",
   "execution_count": 3,
   "id": "61fb2c83",
   "metadata": {},
   "outputs": [
    {
     "name": "stdout",
     "output_type": "stream",
     "text": [
      "Enter your name: RKC\n"
     ]
    },
    {
     "data": {
      "text/plain": [
       "3"
      ]
     },
     "execution_count": 3,
     "metadata": {},
     "output_type": "execute_result"
    }
   ],
   "source": [
    "# Connect to the server\n",
    "\n",
    "c.connect(('localhost',9999)) # Mention the IP Address of the Server and the Port Number.\n",
    "\n",
    "name = input(\"Enter your name: \")\n",
    "\n",
    "c.send(bytes(name,'utf-8'))"
   ]
  },
  {
   "cell_type": "code",
   "execution_count": 4,
   "id": "0179d617",
   "metadata": {},
   "outputs": [
    {
     "name": "stdout",
     "output_type": "stream",
     "text": [
      "Welcome to our land!.\n"
     ]
    }
   ],
   "source": [
    "print(c.recv(1024).decode()) # 1024 is the Buffer Size."
   ]
  },
  {
   "cell_type": "code",
   "execution_count": null,
   "id": "8d5ac623",
   "metadata": {},
   "outputs": [],
   "source": []
  }
 ],
 "metadata": {
  "kernelspec": {
   "display_name": "Python 3 (ipykernel)",
   "language": "python",
   "name": "python3"
  },
  "language_info": {
   "codemirror_mode": {
    "name": "ipython",
    "version": 3
   },
   "file_extension": ".py",
   "mimetype": "text/x-python",
   "name": "python",
   "nbconvert_exporter": "python",
   "pygments_lexer": "ipython3",
   "version": "3.9.12"
  }
 },
 "nbformat": 4,
 "nbformat_minor": 5
}
