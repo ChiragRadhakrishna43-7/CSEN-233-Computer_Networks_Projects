{
 "cells": [
  {
   "cell_type": "code",
   "execution_count": 1,
   "id": "79cf7ff2",
   "metadata": {},
   "outputs": [],
   "source": [
    "# Import the libraries/modules required to implement socket programming:\n",
    "\n",
    "import socket"
   ]
  },
  {
   "cell_type": "code",
   "execution_count": 2,
   "id": "f09d1e09",
   "metadata": {},
   "outputs": [
    {
     "name": "stdout",
     "output_type": "stream",
     "text": [
      "Socket has been created.\n"
     ]
    }
   ],
   "source": [
    "# Creation of the socket:\n",
    "#------------------------\n",
    "# Two parameters to the socket() method: 1) Type of network you are working with. 2)Type of network protocol.\n",
    "# Default values for the socket method are IPV4 and TCP.\n",
    "\n",
    "s = socket.socket()\n",
    "print('Socket has been created.')"
   ]
  },
  {
   "cell_type": "code",
   "execution_count": null,
   "id": "f63e3093",
   "metadata": {},
   "outputs": [
    {
     "name": "stdout",
     "output_type": "stream",
     "text": [
      "Waiting for connections.\n",
      "Connected with ('127.0.0.1', 64252) RKC\n"
     ]
    }
   ],
   "source": [
    "# s.bind(IP_Address,Port_Number)\n",
    "\n",
    "s.bind(('localhost', 9999))  # range of port number is 0-65535.\n",
    "\n",
    "s.listen(3) # Maximum of 3 connections simlutaneously.\n",
    "\n",
    "print('Waiting for connections.')\n",
    "\n",
    "while True:\n",
    "    #Output of accept() is the client_socket & the address.\n",
    "    \n",
    "    c, address = s.accept() #accept a connection from the client.\n",
    "    \n",
    "    name = c.recv(1024).decode()\n",
    "    \n",
    "    print(\"Connected with\",address,name)\n",
    "    \n",
    "    c.send(bytes('Welcome to our land!.','utf-8')) # Data should be sent to the clients in byte format.\n",
    "    \n",
    "    c.close()"
   ]
  },
  {
   "cell_type": "code",
   "execution_count": null,
   "id": "adf71e08",
   "metadata": {},
   "outputs": [],
   "source": []
  }
 ],
 "metadata": {
  "kernelspec": {
   "display_name": "Python 3 (ipykernel)",
   "language": "python",
   "name": "python3"
  },
  "language_info": {
   "codemirror_mode": {
    "name": "ipython",
    "version": 3
   },
   "file_extension": ".py",
   "mimetype": "text/x-python",
   "name": "python",
   "nbconvert_exporter": "python",
   "pygments_lexer": "ipython3",
   "version": "3.9.12"
  }
 },
 "nbformat": 4,
 "nbformat_minor": 5
}
